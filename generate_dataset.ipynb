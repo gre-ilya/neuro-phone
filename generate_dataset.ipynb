{
 "cells": [
  {
   "cell_type": "code",
   "execution_count": null,
   "metadata": {},
   "outputs": [],
   "source": [
    "# работающий через координаты код в цикле (рандомное расположение)\n",
    "# больше 300 сгенерированных изображений для 3х фонов и 5ти телефонов\n",
    "\n",
    "import os\n",
    "import random\n",
    "from PIL import Image\n",
    "\n",
    "front_list = os.listdir(\"D:/front\") # список фонов из папки\n",
    "back_list = os.listdir(\"D:/back\") # список телефонов из папки\n",
    "\n",
    "for front in front_list:\n",
    "    front_img = Image.open(\"D:/front/{}\".format(front))\n",
    "\n",
    "    for back in back_list:\n",
    "        back_img = Image.open(\"D:/back/{}\".format(back))\n",
    "        brows, bcols = back_img.size[:2]\n",
    "        rows, cols = front_img.size[:2]\n",
    "\n",
    "        for y in range(0, bcols, 200):\n",
    "            for x in range(0, brows, 200):\n",
    "                rep_img = Image.open(\"D:/back/{}\".format(back))\n",
    "                rep_img.paste(front_img, (x, y))\n",
    "                name = 'D:/set/{}.jpg'.format(random.randint(0, 1000)) # новая папка на диске D\n",
    "                rep_img.convert(\"RGB\").save(name)"
   ]
  }
 ],
 "metadata": {
  "kernelspec": {
   "display_name": "Python 3",
   "language": "python",
   "name": "python3"
  },
  "language_info": {
   "codemirror_mode": {
    "name": "ipython",
    "version": 3
   },
   "file_extension": ".py",
   "mimetype": "text/x-python",
   "name": "python",
   "nbconvert_exporter": "python",
   "pygments_lexer": "ipython3",
   "version": "3.8.5"
  }
 },
 "nbformat": 4,
 "nbformat_minor": 4
}
