{
  "nbformat": 4,
  "nbformat_minor": 0,
  "metadata": {
    "colab": {
      "name": "Untitled2.ipynb",
      "provenance": [],
      "collapsed_sections": [],
      "authorship_tag": "ABX9TyNiLcQrb7U0+4VgdzEvjM0z",
      "include_colab_link": true
    },
    "kernelspec": {
      "display_name": "Python 3",
      "name": "python3"
    },
    "language_info": {
      "name": "python"
    }
  },
  "cells": [
    {
      "cell_type": "markdown",
      "metadata": {
        "id": "view-in-github",
        "colab_type": "text"
      },
      "source": [
        "<a href=\"https://colab.research.google.com/github/KozhevnikovAlexandr/zootopia-project/blob/main/vgg16_zootopia.ipynb\" target=\"_parent\"><img src=\"https://colab.research.google.com/assets/colab-badge.svg\" alt=\"Open In Colab\"/></a>"
      ]
    },
    {
      "cell_type": "code",
      "metadata": {
        "id": "2vU15_4HJMea"
      },
      "source": [
        "from tensorflow.python.keras.preprocessing.image import ImageDataGenerator\n",
        "from tensorflow.python.keras.models import Sequential\n",
        "from tensorflow.python.keras.preprocessing import image\n",
        "from tensorflow.python.keras.layers import Activation, Dropout, Flatten, Dense\n",
        "from tensorflow.python.keras.applications.vgg16 import VGG16\n",
        "from tensorflow.python.keras.applications.vgg16 import preprocess_input, decode_predictions\n",
        "from keras.optimizers import SGD\n",
        "from google.colab import files\n",
        "from IPython.display import Image\n",
        "import numpy as np\n",
        "from google.colab import drive\n",
        "import zipfile\n",
        "import shutil\n",
        "from keras import losses\n",
        "import os\n",
        "from keras.optimizers import Adam"
      ],
      "execution_count": 25,
      "outputs": []
    },
    {
      "cell_type": "code",
      "metadata": {
        "id": "ZSpicc_fJrQN"
      },
      "source": [
        "# Каталог с данными для обучения\n",
        "train_dir = '/content/train'\n",
        "# Каталог с данными для проверки\n",
        "val_dir = '/content/test'\n",
        "# Каталог с данными для тестирования\n",
        "test_dir = '/content/val'\n",
        "# Размеры изображения\n",
        "img_width, img_height = 150, 150\n",
        "# Размерность тензора на основе изображения для входных данных в нейронную сеть\n",
        "input_shape = (img_width, img_height, 3)\n",
        "# Размер мини-выборки \n",
        "batch_size = 100\n",
        "# Количество изображений для обучения\n",
        "nb_train_samples = 2000 \n",
        "# Количество изображений для проверки\n",
        "nb_validation_samples = 100\n",
        "# Количество изображений для тестирования\n",
        "nb_test_samples = 100\n",
        "#Количество эпох\n",
        "epochs_count = 10\n",
        "#Количество нейронов на полносвязном слое\n",
        "dense_count = 512"
      ],
      "execution_count": 63,
      "outputs": []
    },
    {
      "cell_type": "code",
      "metadata": {
        "colab": {
          "base_uri": "https://localhost:8080/"
        },
        "id": "Fn6aLva9O_8G",
        "outputId": "c717fdc0-8fd0-41cf-fa71-a2093bbfb85a"
      },
      "source": [
        "#подключение гугл диска\n",
        "!mkdir /content/drive\n",
        "drive.mount('/content/drive', force_remount=True)"
      ],
      "execution_count": 56,
      "outputs": [
        {
          "output_type": "stream",
          "text": [
            "Mounted at /content/drive\n"
          ],
          "name": "stdout"
        }
      ]
    },
    {
      "cell_type": "code",
      "metadata": {
        "id": "r_nt7t6FQDFs"
      },
      "source": [
        "#распаковка архивов\n",
        "zip_file = '/content/drive/My Drive/set.zip'\n",
        "z = zipfile.ZipFile(zip_file, 'r')\n",
        "z.extractall()"
      ],
      "execution_count": 10,
      "outputs": []
    },
    {
      "cell_type": "code",
      "metadata": {
        "id": "hFcqwnHv42sL"
      },
      "source": [
        "zip_file = '/content/drive/My Drive/sorted.zip'\n",
        "z = zipfile.ZipFile(zip_file, 'r')\n",
        "z.extractall()"
      ],
      "execution_count": 23,
      "outputs": []
    },
    {
      "cell_type": "code",
      "metadata": {
        "id": "0DuPKDRhrNx3"
      },
      "source": [
        "zip_file = '/content/drive/My Drive/work_test.zip'\n",
        "z = zipfile.ZipFile(zip_file, 'r')\n",
        "z.extractall()"
      ],
      "execution_count": null,
      "outputs": []
    },
    {
      "cell_type": "code",
      "metadata": {
        "id": "rXeYFxu6zw_d"
      },
      "source": [
        "!mkdir /content/train\n",
        "!mkdir /content/train/phone\n",
        "!mkdir /content/train/no_phone\n",
        "!mkdir /content/val\n",
        "!mkdir /content/val/phone\n",
        "!mkdir /content/val/no_phone\n",
        "!mkdir /content/test\n",
        "!mkdir /content/test/phone\n",
        "!mkdir /content/test/no_phone"
      ],
      "execution_count": 30,
      "outputs": []
    },
    {
      "cell_type": "code",
      "metadata": {
        "id": "mwAidJCfwY0v"
      },
      "source": [
        "#функция пермещает и соритрует фото по каталогам для генераторов\n",
        "def move_files(from_dir, to_train, to_val, to_test, format, train_count):\n",
        "  val_count = 0\n",
        "  test_count = 0\n",
        "  current_train_count = 0\n",
        "  for root, dirs, files in os.walk(from_dir):\n",
        "    for file in files:\n",
        "      if (file.endswith(format)):\n",
        "        if val_count < nb_validation_samples // 2:\n",
        "          val_count += 1\n",
        "          os.rename(os.path.join(from_dir, file), os.path.join(to_val, file))\n",
        "          continue\n",
        "        if test_count < nb_test_samples // 2:\n",
        "          test_count += 1\n",
        "          os.rename(os.path.join(from_dir, file), os.path.join(to_test, file)) \n",
        "          continue\n",
        "        if current_train_count < train_count:\n",
        "          current_train_count += 1\n",
        "          os.rename(os.path.join(from_dir, file), os.path.join(to_train, file))\n",
        "          continue"
      ],
      "execution_count": 31,
      "outputs": []
    },
    {
      "cell_type": "code",
      "metadata": {
        "id": "gvg-u3H449f9"
      },
      "source": [
        "move_files('/content/set/', '/content/train/phone/', '/content/val/phone/', '/content/test/phone/', '.jpg', 1000)"
      ],
      "execution_count": 32,
      "outputs": []
    },
    {
      "cell_type": "code",
      "metadata": {
        "id": "TSuuQfS54coJ"
      },
      "source": [
        "move_files('/content/sorted/', '/content/train/no_phone/', '/content/val/no_phone/', '/content/test/no_phone/', '.JPEG', 1000)"
      ],
      "execution_count": 33,
      "outputs": []
    },
    {
      "cell_type": "code",
      "metadata": {
        "id": "yNV7s0k7Q3ZR"
      },
      "source": [
        "#инициализация готовой части сети\n",
        "vgg16_net = VGG16(weights='imagenet', include_top=False, input_shape=input_shape)\n",
        "#отключение обучения уже обученной части\n",
        "vgg16_net.trainable = False"
      ],
      "execution_count": 65,
      "outputs": []
    },
    {
      "cell_type": "code",
      "metadata": {
        "id": "VUIEGWKER9Ix"
      },
      "source": [
        "#инициализация сети, добавление слоев\n",
        "model = Sequential()\n",
        "model.add(vgg16_net)\n",
        "model.add(Flatten())\n",
        "model.add(Dense(dense_count))\n",
        "model.add(Activation('relu'))\n",
        "model.add(Dropout(0.5))\n",
        "model.add(Dense(1))\n",
        "model.add(Activation('sigmoid'))"
      ],
      "execution_count": 76,
      "outputs": []
    },
    {
      "cell_type": "code",
      "metadata": {
        "id": "Z7Hj2LnZSCOE"
      },
      "source": [
        "#компиляция модели\n",
        "#фунуция ошибок - среднекватратичная \n",
        "#оптимизатор Adam\n",
        "model.compile(loss=losses.mean_squared_error,\n",
        "              optimizer=Adam(lr=1e-5), \n",
        "              metrics=['accuracy'])"
      ],
      "execution_count": 67,
      "outputs": []
    },
    {
      "cell_type": "code",
      "metadata": {
        "id": "i3yCVPw_SHEK"
      },
      "source": [
        "#создание генератора, помещаем все пиксели изображения в диапазон от 0 до 255\n",
        "datagen = ImageDataGenerator(rescale=1. / 255)"
      ],
      "execution_count": 68,
      "outputs": []
    },
    {
      "cell_type": "code",
      "metadata": {
        "colab": {
          "base_uri": "https://localhost:8080/"
        },
        "id": "1GwoXvZoSKUt",
        "outputId": "d96a6f99-454a-4bb4-80fa-2ee03c2cfb02"
      },
      "source": [
        "#генератор данных для обучения\n",
        "train_generator = datagen.flow_from_directory(\n",
        "    train_dir,\n",
        "    target_size=(img_width, img_height),\n",
        "    batch_size=batch_size,\n",
        "    class_mode='binary')"
      ],
      "execution_count": 69,
      "outputs": [
        {
          "output_type": "stream",
          "text": [
            "Found 1996 images belonging to 2 classes.\n"
          ],
          "name": "stdout"
        }
      ]
    },
    {
      "cell_type": "code",
      "metadata": {
        "id": "J8J2P5oOishk",
        "colab": {
          "base_uri": "https://localhost:8080/"
        },
        "outputId": "92b92409-cd7f-4b10-cfd0-c2080f060ac5"
      },
      "source": [
        "#генератор данных для проверки\n",
        "val_generator = datagen.flow_from_directory(\n",
        "    val_dir,\n",
        "    target_size=(img_width, img_height),\n",
        "    batch_size=batch_size,\n",
        "    class_mode='binary')"
      ],
      "execution_count": 70,
      "outputs": [
        {
          "output_type": "stream",
          "text": [
            "Found 100 images belonging to 2 classes.\n"
          ],
          "name": "stdout"
        }
      ]
    },
    {
      "cell_type": "code",
      "metadata": {
        "id": "wK7v2dp1is3m",
        "colab": {
          "base_uri": "https://localhost:8080/"
        },
        "outputId": "6c84f90e-a4e7-4538-a4a5-c1891bf3da95"
      },
      "source": [
        "#генератор данных для тестиования\n",
        "test_generator = datagen.flow_from_directory(\n",
        "    test_dir,\n",
        "    target_size=(img_width, img_height),\n",
        "    batch_size=batch_size,\n",
        "    class_mode='binary')"
      ],
      "execution_count": 71,
      "outputs": [
        {
          "output_type": "stream",
          "text": [
            "Found 100 images belonging to 2 classes.\n"
          ],
          "name": "stdout"
        }
      ]
    },
    {
      "cell_type": "code",
      "metadata": {
        "colab": {
          "base_uri": "https://localhost:8080/"
        },
        "id": "LY3F0jV2WrkK",
        "outputId": "1183a647-da3e-44a2-f822-6603d3e86230"
      },
      "source": [
        "#генератор рабочих данных для тестиования\n",
        "work_generator = datagen.flow_from_directory(\n",
        "    '/content/work_test',\n",
        "    target_size=(img_width, img_height),\n",
        "    batch_size=batch_size,\n",
        "    class_mode='binary')"
      ],
      "execution_count": 74,
      "outputs": [
        {
          "output_type": "stream",
          "text": [
            "Found 164 images belonging to 2 classes.\n"
          ],
          "name": "stdout"
        }
      ]
    },
    {
      "cell_type": "code",
      "metadata": {
        "colab": {
          "base_uri": "https://localhost:8080/"
        },
        "id": "jqOGvDcTSUkP",
        "outputId": "fa1d4535-341f-4f68-d4f6-e3ddf2ffe562"
      },
      "source": [
        "model.fit_generator(\n",
        "    train_generator,\n",
        "    steps_per_epoch=nb_train_samples // batch_size,\n",
        "    epochs=epochs_count,\n",
        "    validation_data=val_generator,\n",
        "    validation_steps=nb_validation_samples // batch_size)"
      ],
      "execution_count": 72,
      "outputs": [
        {
          "output_type": "stream",
          "text": [
            "/usr/local/lib/python3.7/dist-packages/tensorflow/python/keras/engine/training.py:1844: UserWarning: `Model.fit_generator` is deprecated and will be removed in a future version. Please use `Model.fit`, which supports generators.\n",
            "  warnings.warn('`Model.fit_generator` is deprecated and '\n"
          ],
          "name": "stderr"
        },
        {
          "output_type": "stream",
          "text": [
            "Epoch 1/10\n",
            "20/20 [==============================] - 464s 23s/step - loss: 0.3323 - accuracy: 0.5416 - val_loss: 0.1521 - val_accuracy: 0.9200\n",
            "Epoch 2/10\n",
            "20/20 [==============================] - 458s 23s/step - loss: 0.1558 - accuracy: 0.7962 - val_loss: 0.0725 - val_accuracy: 0.9900\n",
            "Epoch 3/10\n",
            "20/20 [==============================] - 457s 23s/step - loss: 0.0815 - accuracy: 0.9152 - val_loss: 0.0431 - val_accuracy: 1.0000\n",
            "Epoch 4/10\n",
            "20/20 [==============================] - 456s 23s/step - loss: 0.0542 - accuracy: 0.9576 - val_loss: 0.0258 - val_accuracy: 1.0000\n",
            "Epoch 5/10\n",
            "20/20 [==============================] - 458s 23s/step - loss: 0.0372 - accuracy: 0.9692 - val_loss: 0.0186 - val_accuracy: 1.0000\n",
            "Epoch 6/10\n",
            "20/20 [==============================] - 461s 23s/step - loss: 0.0309 - accuracy: 0.9753 - val_loss: 0.0138 - val_accuracy: 1.0000\n",
            "Epoch 7/10\n",
            "20/20 [==============================] - 459s 23s/step - loss: 0.0238 - accuracy: 0.9851 - val_loss: 0.0103 - val_accuracy: 1.0000\n",
            "Epoch 8/10\n",
            "20/20 [==============================] - 476s 24s/step - loss: 0.0209 - accuracy: 0.9823 - val_loss: 0.0080 - val_accuracy: 1.0000\n",
            "Epoch 9/10\n",
            "20/20 [==============================] - 473s 24s/step - loss: 0.0158 - accuracy: 0.9890 - val_loss: 0.0065 - val_accuracy: 1.0000\n",
            "Epoch 10/10\n",
            "20/20 [==============================] - 464s 23s/step - loss: 0.0139 - accuracy: 0.9915 - val_loss: 0.0054 - val_accuracy: 1.0000\n"
          ],
          "name": "stdout"
        },
        {
          "output_type": "execute_result",
          "data": {
            "text/plain": [
              "<tensorflow.python.keras.callbacks.History at 0x7fe33562b0d0>"
            ]
          },
          "metadata": {
            "tags": []
          },
          "execution_count": 72
        }
      ]
    },
    {
      "cell_type": "code",
      "metadata": {
        "id": "rgxuH8IkkDK6",
        "colab": {
          "base_uri": "https://localhost:8080/"
        },
        "outputId": "e007763b-bc1f-47de-e2e5-2375de3d450e"
      },
      "source": [
        "scores = model.evaluate_generator(test_generator, nb_test_samples // batch_size)\n",
        "print(\"Точность на тестовых данных (синтетика): %.2f%%\" % (scores[1]*100))"
      ],
      "execution_count": 73,
      "outputs": [
        {
          "output_type": "stream",
          "text": [
            "/usr/local/lib/python3.7/dist-packages/tensorflow/python/keras/engine/training.py:1877: UserWarning: `Model.evaluate_generator` is deprecated and will be removed in a future version. Please use `Model.evaluate`, which supports generators.\n",
            "  warnings.warn('`Model.evaluate_generator` is deprecated and '\n"
          ],
          "name": "stderr"
        },
        {
          "output_type": "stream",
          "text": [
            "Точность на тестовых данных: 100.00%\n"
          ],
          "name": "stdout"
        }
      ]
    },
    {
      "cell_type": "code",
      "metadata": {
        "colab": {
          "base_uri": "https://localhost:8080/"
        },
        "id": "jRJXUK_vW4w8",
        "outputId": "f9ed4db5-16a4-4c8d-fb7f-7df110e657e9"
      },
      "source": [
        "scores = model.evaluate_generator(work_generator, 164 // batch_size)\n",
        "print(\"Точность на рабочих данных (с вебки): %.2f%%\" % (scores[1]*100))"
      ],
      "execution_count": 75,
      "outputs": [
        {
          "output_type": "stream",
          "text": [
            "/usr/local/lib/python3.7/dist-packages/tensorflow/python/keras/engine/training.py:1877: UserWarning: `Model.evaluate_generator` is deprecated and will be removed in a future version. Please use `Model.evaluate`, which supports generators.\n",
            "  warnings.warn('`Model.evaluate_generator` is deprecated and '\n"
          ],
          "name": "stderr"
        },
        {
          "output_type": "stream",
          "text": [
            "Точность на рабочих данных: 33.00%\n"
          ],
          "name": "stdout"
        }
      ]
    },
    {
      "cell_type": "markdown",
      "metadata": {
        "id": "PGGzee6STnwN"
      },
      "source": [
        ""
      ]
    }
  ]
}